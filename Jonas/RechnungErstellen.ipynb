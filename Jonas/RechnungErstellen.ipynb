{
 "cells": [
  {
   "cell_type": "code",
   "execution_count": 5,
   "id": "bb35a321",
   "metadata": {},
   "outputs": [],
   "source": [
    "from reportlab.pdfgen import canvas\n",
    "from reportlab.lib.pagesizes import A4\n",
    "\n",
    "x,y = A4\n",
    "# # global zeile\n",
    "# # def neueA4Seite():\n",
    "# #     \"\"\"\n",
    "# #     Setzt die globale Variable 'zeile' auf 10% Abstand von Oben und 10% Abstand von Links \n",
    "# #     \"\"\"\n",
    "# #     global zeile \n",
    "# #     zeile = [int(y) - int(y*0.1), int(x*0.1)]\n",
    "# # c = canvas.Canvas(\"Rechnung.pdf\", pagesize=A4)\n",
    "# # neueA4Seite()\n",
    "\n",
    "# # print(f\"X = {x:.5} Y = {y:.5}\")\n",
    "# # print(int(x*0.1), int(y*0.1))\n",
    "# # print(zeile)\n",
    "\n",
    "# # c.save()\n"
   ]
  },
  {
   "cell_type": "code",
   "execution_count": null,
   "id": "6bfdf7c8",
   "metadata": {},
   "outputs": [
    {
     "name": "stdout",
     "output_type": "stream",
     "text": [
      "535 84\n"
     ]
    }
   ],
   "source": [
    "c = canvas.Canvas(\"Titel.pdf\", pagesize=A4)\n",
    "def titel(titel):\n",
    "    c.setFontSize(20)\n",
    "    # c.drawString(int(x-x*0.1),int(y*0.1),\"Rechnung\")\n",
    "    c.drawString(535,84,\"Rechnung\")\n",
    "    # print(int(x-x*0.1),int(y*0.1))\n",
    "    c.save()\n",
    "titel(\"Rechnung\")\n"
   ]
  },
  {
   "cell_type": "code",
   "execution_count": null,
   "id": "9dcb60bf",
   "metadata": {},
   "outputs": [],
   "source": []
  }
 ],
 "metadata": {
  "kernelspec": {
   "display_name": "Python 3",
   "language": "python",
   "name": "python3"
  },
  "language_info": {
   "codemirror_mode": {
    "name": "ipython",
    "version": 3
   },
   "file_extension": ".py",
   "mimetype": "text/x-python",
   "name": "python",
   "nbconvert_exporter": "python",
   "pygments_lexer": "ipython3",
   "version": "3.13.8"
  }
 },
 "nbformat": 4,
 "nbformat_minor": 5
}
