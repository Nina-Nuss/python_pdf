{
 "cells": [
  {
   "cell_type": "code",
   "execution_count": null,
   "id": "bb35a321",
   "metadata": {},
   "outputs": [
    {
     "ename": "SyntaxError",
     "evalue": "invalid syntax (4101309347.py, line 8)",
     "output_type": "error",
     "traceback": [
      "  \u001b[36mCell\u001b[39m\u001b[36m \u001b[39m\u001b[32mIn[1]\u001b[39m\u001b[32m, line 8\u001b[39m\n\u001b[31m    \u001b[39m\u001b[31mglobal zeile = [int(y) - int(y*0.05), int(x)-int(x*0.1)]\u001b[39m\n                 ^\n\u001b[31mSyntaxError\u001b[39m\u001b[31m:\u001b[39m invalid syntax\n"
     ]
    }
   ],
   "source": [
    "from reportlab.pdfgen import canvas\n",
    "from reportlab.lib.pagesizes import A4\n",
    "\n",
    "\n",
    "x,y = A4\n",
    "zeile = []\n",
    "def neueA4Seite():\n",
    "    zeile = [int(y) - int(y*0.05), int(x)-int(x*0.1)]\n",
    "c = canvas.Canvas(\"Rechnung.pdf\", pagesize=A4)\n",
    "neueA4Seite()\n",
    "\n",
    "\n",
    "print(f\"X = {x:.5} Y = {y:.5}\")\n",
    "print(int(x*0.1), int(y*0.1))\n",
    "print(zeile)\n",
    "\n",
    "\n"
   ]
  },
  {
   "cell_type": "code",
   "execution_count": null,
   "id": "6bfdf7c8",
   "metadata": {},
   "outputs": [],
   "source": [
    "def titel(titel):\n",
    "    "
   ]
  },
  {
   "cell_type": "code",
   "execution_count": null,
   "id": "9dcb60bf",
   "metadata": {},
   "outputs": [],
   "source": [
    "c.save()"
   ]
  }
 ],
 "metadata": {
  "kernelspec": {
   "display_name": "Python 3",
   "language": "python",
   "name": "python3"
  },
  "language_info": {
   "codemirror_mode": {
    "name": "ipython",
    "version": 3
   },
   "file_extension": ".py",
   "mimetype": "text/x-python",
   "name": "python",
   "nbconvert_exporter": "python",
   "pygments_lexer": "ipython3",
   "version": "3.13.8"
  }
 },
 "nbformat": 4,
 "nbformat_minor": 5
}
