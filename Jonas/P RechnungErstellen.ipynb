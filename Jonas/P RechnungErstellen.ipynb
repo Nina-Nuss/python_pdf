{
 "cells": [
  {
   "cell_type": "markdown",
   "id": "b7678990",
   "metadata": {},
   "source": [
    "## Vorbereitung\n",
    "Reportlab installieren mit pip:<br>\n",
    "pip install reportlab<br>\n",
    "an Schulkomputern mit Anaconda:<br>\n",
    "-m pip install reportlab<br>"
   ]
  },
  {
   "cell_type": "code",
   "execution_count": 2,
   "id": "bb35a321",
   "metadata": {},
   "outputs": [
    {
     "name": "stdout",
     "output_type": "stream",
     "text": [
      "X = 595 Y = 841\n"
     ]
    }
   ],
   "source": [
    "#Importiert wichtige Methoden und Blattgröße welche in  teilt diese in x un y aufgeteilt wird \n",
    "from reportlab.pdfgen import canvas\n",
    "from reportlab.lib.pagesizes import A4, A5, A3\n",
    "import json\n",
    "from json import load\n",
    "import string\n",
    "import math\n",
    "blatt = A4\n",
    "x,y = blatt\n",
    "x,y = (int(x),int(y))\n",
    "print(f\"X = {x} Y = {y}\")"
   ]
  },
  {
   "cell_type": "markdown",
   "id": "b036712b",
   "metadata": {},
   "source": [
    "### Überschrift\n",
    "Erstelle eine Methode die oben Links die Überschrift setzt<br>\n",
    "Beachte eine Überschrieft sollte größer sein<br>\n",
    "zum Vergleich schau dir \"L Titel.pdf\" an"
   ]
  },
  {
   "cell_type": "code",
   "execution_count": null,
   "id": "6bfdf7c8",
   "metadata": {},
   "outputs": [],
   "source": [
    "c = canvas.Canvas(\"Titel.pdf\", pagesize=blatt)\n",
    "def titel(fontSize=60):\n",
    "    \"\"\"Schreibt RECHNUNG groß oben links hin\"\"\"\n",
    "    #code\n",
    "\n",
    "titel()\n",
    "c.save()"
   ]
  },
  {
   "cell_type": "markdown",
   "id": "c31b4b05",
   "metadata": {},
   "source": [
    "### Empfänger\n",
    "Der Empfänger, sowie deren Adresse solunter der Überschrift auf der linken seite stehen<br>\n",
    "In dieser Biblothek wird die nächste Zeile nicht gesetzt<br>\n",
    "zum vergleich schau dir \"L Receiver.pdf\" an"
   ]
  },
  {
   "cell_type": "code",
   "execution_count": null,
   "id": "9dcb60bf",
   "metadata": {},
   "outputs": [],
   "source": [
    "c = canvas.Canvas(\"Receiver.pdf\", pagesize=blatt)\n",
    "def receiver(person, fontSize=15):\n",
    "    \"\"\"Schreibt den Rechnungsempfänger unter den Titel\"\"\"\n",
    "    #code\n",
    "\n",
    "receiver([\"Vincent Muster\",\"Jede Strasse 123\",\"12345 Jede Stadt\"])\n",
    "c.save()"
   ]
  },
  {
   "cell_type": "markdown",
   "id": "7c549b1b",
   "metadata": {},
   "source": [
    "### Notierung\n",
    "Gibt die Notierung von der Rechnungs Nummer und Datum auf der Rechten Seite aus<br>\n",
    "zum Vergleich schau dir \"L NrDatum.pdf\" an"
   ]
  },
  {
   "cell_type": "code",
   "execution_count": null,
   "id": "1c0523e0",
   "metadata": {},
   "outputs": [],
   "source": [
    "c = canvas.Canvas(\"NrDatum.pdf\", pagesize=blatt)\n",
    "def nrDatum(nummer, datum, fontSize=15):\n",
    "    \"\"\"Schreibt die Rechnungsnummer an die Rechte seite der Rechnung\"\"\"\n",
    "    #code\n",
    "\n",
    "nrDatum(12345, \"15 - 12 - 2023\")\n",
    "c.save()"
   ]
  },
  {
   "cell_type": "markdown",
   "id": "53e14408",
   "metadata": {},
   "source": [
    "### Rechnung\n",
    "Das ist die sogenannte Einserfrage an der man möglicherweise zuhause weiter arbeiten muss<br>\n",
    "zum Vergleich schau dir \"L Einkaufliste.pdf\" an<br><br>\n",
    "In dieser Methode soll man:\n",
    "- eine Überschrift \n",
    "- eine Beschreibung\n",
    "- Allle Items \n",
    " - Menge\n",
    " - Preis\n",
    " - Produkt von Menge und Preis\n",
    "- Zwischensumme\n",
    "- Die Steuer von 19%\n",
    "- Die Endsumme"
   ]
  },
  {
   "cell_type": "code",
   "execution_count": null,
   "id": "e4dde096",
   "metadata": {},
   "outputs": [],
   "source": [
    "c = canvas.Canvas(\"Einkaufliste.pdf\", pagesize=blatt)\n",
    "def rechnung(liste, fontSize=15):\n",
    "    \"\"\"Nimmt die liste aus der json  entgegen und gibt eine graphische \n",
    "    Liste mit gekauften Items in form einer Rechnung wieder\"\"\"\n",
    "    #code\n",
    "    \n",
    "\n",
    "with open(\"Einkaufliste.json\", \"r\",encoding=\"UTF-8\") as file:\n",
    "    file = json.load(file)\n",
    "    rechnung(file[\"einkaufsliste\"])\n",
    "\n",
    "c.save()"
   ]
  },
  {
   "cell_type": "markdown",
   "id": "c6e1dad9",
   "metadata": {},
   "source": [
    "## Komplette Lösung\n",
    "Kombiniert alle bisherigen Funktionen<br>\n",
    "und nimmt "
   ]
  },
  {
   "cell_type": "code",
   "execution_count": null,
   "id": "8610ad8d",
   "metadata": {},
   "outputs": [],
   "source": [
    "def create_pdf(json_data, blatt, ueberschrift_font, receiver_font, nrDatum_font, rechnung_font):\n",
    "    \"\"\"Gibt eine Komplette Rechnung in PDF-Format\"\"\"\n",
    "    with open(json_data, \"r\",encoding=\"UTF-8\") as file:\n",
    "        global c, x, y # Declare as global to modify the global variables\n",
    "        x,y = blatt\n",
    "        x,y = (int(x),int(y))\n",
    "        file = json.load(file)\n",
    "        c = canvas.Canvas(f\"Rechnung_{file['person']['name']}.pdf\", pagesize=blatt)\n",
    "        #code\n",
    "        \n",
    "        c.save()\n",
    "\n",
    "create_pdf(\"Einkaufliste.json\", A4, 40, 15, 15, 15)\n",
    "\n",
    "create_pdf(\"Einkaufliste2.json\", A5, 30, 10, 10, 10)\n",
    "\n",
    "\n",
    "\n",
    "\n",
    "\n"
   ]
  }
 ],
 "metadata": {
  "kernelspec": {
   "display_name": "Python 3",
   "language": "python",
   "name": "python3"
  },
  "language_info": {
   "codemirror_mode": {
    "name": "ipython",
    "version": 3
   },
   "file_extension": ".py",
   "mimetype": "text/x-python",
   "name": "python",
   "nbconvert_exporter": "python",
   "pygments_lexer": "ipython3",
   "version": "3.13.8"
  }
 },
 "nbformat": 4,
 "nbformat_minor": 5
}
