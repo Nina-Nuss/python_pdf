{
 "cells": [
  {
   "cell_type": "code",
   "execution_count": null,
   "id": "bb35a321",
   "metadata": {},
   "outputs": [
    {
     "name": "stdout",
     "output_type": "stream",
     "text": [
      "X = 595 Y = 841\n"
     ]
    }
   ],
   "source": [
    "from reportlab.pdfgen import canvas\n",
    "from reportlab.lib.pagesizes import A4\n",
    "x,y = A4\n",
    "x,y = (int(x),int(y))\n",
    "print(f\"X = {x} Y = {y}\")\n",
    "\n"
   ]
  },
  {
   "cell_type": "code",
   "execution_count": null,
   "id": "6bfdf7c8",
   "metadata": {},
   "outputs": [
    {
     "name": "stdout",
     "output_type": "stream",
     "text": [
      "59.5 756.9\n"
     ]
    }
   ],
   "source": [
    "import string\n",
    "c = canvas.Canvas(\"Titel.pdf\", pagesize=A4)\n",
    "\n",
    "def titel():\n",
    "    \"\"\"Schreibt RECHNUNG groß oben links hin\"\"\"\n",
    "    c.setFontSize(60)    \n",
    "    c.drawString(x*0.1,y-y*0.15,\"RECHNUNG\")\n",
    "    print(x*0.1,y-y*0.1)\n",
    "\n",
    "titel()\n",
    "c.save()"
   ]
  },
  {
   "cell_type": "code",
   "execution_count": null,
   "id": "9dcb60bf",
   "metadata": {},
   "outputs": [
    {
     "name": "stdout",
     "output_type": "stream",
     "text": [
      "59.5 756.9\n"
     ]
    }
   ],
   "source": [
    "c = canvas.Canvas(\"Receiver.pdf\", pagesize=A4)\n",
    "def receiver(person):\n",
    "    \"\"\"Schreibt den Rechnungsempfänger unter den Titel\"\"\"\n",
    "    c.setFontSize(15)\n",
    "    c.drawString(x*0.1,y-y*0.20,\"RECHNUNG AN:\")\n",
    "    tempx, tempy = x*0.1,y-y*0.20 -10\n",
    "    for i in person:\n",
    "        tempx, tempy = tempx, tempy -10\n",
    "        c.drawString(tempx, tempy,i)\n",
    "\n",
    "receiver([\"Vincent Muster\",\"Jede Strasse 123\",\"12345 Jede Stadt\"])\n",
    "c.save()"
   ]
  },
  {
   "cell_type": "code",
   "execution_count": null,
   "id": "1c0523e0",
   "metadata": {},
   "outputs": [
    {
     "name": "stdout",
     "output_type": "stream",
     "text": [
      "59.5 756.9\n"
     ]
    }
   ],
   "source": [
    "from datetime import datetime\n",
    "c = canvas.Canvas(\"NrDatum.pdf\", pagesize=A4)\n",
    "def nrDatum(nummer, datum):\n",
    "    \"\"\"Schreibt die Rechnungsnummer an die Rechte seite der Rechnung\"\"\"\n",
    "    c.setFontSize(15)\n",
    "    tempx, tempy = x-x*0.1,y-y*0.20\n",
    "    tempx, tempy = tempx, tempy -10\n",
    "    c.drawRightString(tempx, tempy, f\"Rechnung NR. {nummer}\")\n",
    "    tempx, tempy = tempx, tempy -15\n",
    "    c.drawRightString(tempx, tempy, datum)\n",
    "\n",
    "nrDatum(12345, datetime.today().strftime('%d . %m . %Y'))\n",
    "c.save()"
   ]
  },
  {
   "cell_type": "code",
   "execution_count": null,
   "id": "e4dde096",
   "metadata": {},
   "outputs": [
    {
     "name": "stdout",
     "output_type": "stream",
     "text": [
      "28.13\n"
     ]
    }
   ],
   "source": [
    "import json\n",
    "import math\n",
    "from json import load\n",
    "c = canvas.Canvas(\"Einkaufsliste.pdf\", pagesize=A4)\n",
    "def rechnung(einkaufsliste):\n",
    "    \"\"\"Nimmt ein jsonfilepath zu einer Einkaufliste entgegen\n",
    "    und gibt eine graphische Liste mit den gekauften Items wieder\"\"\"\n",
    "    steuer = 19\n",
    "    c.setFontSize(15)\n",
    "    tempx, tempy = x-x*0.1,y-y*0.35\n",
    "    # tempx, tempy = tempx, tempy -10\n",
    "    # with open(jsonfilepath, \"r\",encoding=\"UTF-8\") as file:\n",
    "\n",
    "    # file = json.load(file)\n",
    "    c.drawRightString(tempx, tempy, file[\"verkäufer\"])\n",
    "    tempx, tempy = x*0.1,y-y*0.35\n",
    "    tempx, tempy = tempx, tempy -10\n",
    "    c.line(x *0.9, tempy, x * 0.1, tempy)\n",
    "    tempx, tempy = tempx, tempy -20\n",
    "    c.drawString(tempx + 10, tempy, \"Beschreibung\")\n",
    "    c.drawString(x * 0.5, tempy, \"Anzahl\")\n",
    "    c.drawString(x * 0.65, tempy, \"Preis\")\n",
    "    c.drawString(x * 0.8, tempy, \"Summe\")\n",
    "    tempx, tempy = tempx, tempy -20\n",
    "    c.line(x *0.9, tempy, x * 0.1, tempy)\n",
    "    zwischensumme = 0\n",
    "    for i in einkaufsliste:\n",
    "        tempx, tempy = tempx, tempy -20\n",
    "        c.drawString(tempx + 10, tempy, i[\"produkt\"])\n",
    "        c.drawString(x * 0.5, tempy, str(i[\"menge\"]))\n",
    "        c.drawString(x * 0.65, tempy, str(i[\"preis_pro_einheit\"]) + \"€\")\n",
    "        # summe = (int((i[\"preis_pro_einheit\"] * i[\"menge\"])*100))/100\n",
    "        summe = round(i[\"preis_pro_einheit\"] * i[\"menge\"],2)\n",
    "        c.drawString(x * 0.8, tempy, str(summe) + \"€\")\n",
    "        zwischensumme += summe\n",
    "        tempx, tempy = tempx, tempy -20\n",
    "        c.line(x *0.9, tempy, x * 0.1, tempy)\n",
    "    tempx, tempy = tempx, tempy -20\n",
    "    c.drawString(x * 0.5, tempy, f\"Zwischensumme\")\n",
    "    c.drawString(x * 0.8, tempy, f\"{zwischensumme}€\")\n",
    "    \n",
    "    tempx, tempy = tempx, tempy -40\n",
    "    c.drawString(x * 0.5, tempy, f\"Steuer ({steuer} %)\")\n",
    "    steuer = round(zwischensumme * (steuer /100),2)\n",
    "    c.drawString(x * 0.8, tempy, f\"{steuer}€\")\n",
    "    tempx, tempy = tempx, tempy -20\n",
    "    c.line(x *0.9, tempy, x * 0.1, tempy)\n",
    "    tempx, tempy = tempx, tempy -20\n",
    "    c.drawString(x * 0.5, tempy, f\"Summe\")\n",
    "    endsumme = round(zwischensumme + steuer,2)\n",
    "    c.drawString(x * 0.8, tempy, f\"{endsumme}€\")\n",
    "    print(endsumme)\n",
    "\n",
    "\n",
    "with open(\"Einkaufliste.json\", \"r\",encoding=\"UTF-8\") as file:\n",
    "    file = json.load(file)\n",
    "    rechnung(file[\"einkaufsliste\"])\n",
    "\n",
    "c.save()"
   ]
  },
  {
   "cell_type": "code",
   "execution_count": 87,
   "id": "8610ad8d",
   "metadata": {},
   "outputs": [
    {
     "name": "stdout",
     "output_type": "stream",
     "text": [
      "59.5 756.9\n",
      "59.5\n"
     ]
    }
   ],
   "source": [
    "with open(\"Einkaufliste.json\", \"r\",encoding=\"UTF-8\") as file:\n",
    "    file = json.load(file)\n",
    "    c = canvas.Canvas(\"Rechnung.pdf\", pagesize=A4)\n",
    "    titel()\n",
    "    receiver([file[\"person\"][\"name\"] + file[\"person\"][\"nachname\"], file[\"person\"][\"wohnort\"], str(file[\"person\"][\"postleitzahl\"]) + file[\"person\"][\"stadt\"]])\n",
    "    nrDatum(file[\"vertragsnummer\"], datetime.today().strftime('%d . %m . %Y'))\n",
    "    rechnung(file[\"einkaufsliste\"])\n",
    "    c.save()\n"
   ]
  }
 ],
 "metadata": {
  "kernelspec": {
   "display_name": "Python 3",
   "language": "python",
   "name": "python3"
  },
  "language_info": {
   "codemirror_mode": {
    "name": "ipython",
    "version": 3
   },
   "file_extension": ".py",
   "mimetype": "text/x-python",
   "name": "python",
   "nbconvert_exporter": "python",
   "pygments_lexer": "ipython3",
   "version": "3.13.8"
  }
 },
 "nbformat": 4,
 "nbformat_minor": 5
}
