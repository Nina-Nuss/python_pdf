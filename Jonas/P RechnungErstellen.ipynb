{
 "cells": [
  {
   "cell_type": "markdown",
   "id": "b7678990",
   "metadata": {},
   "source": [
    "## Vorbereitung\n",
    "Reportlab installieren mit:<br>\n",
    "pip install reportlab<br><br>\n",
    "\n",
    "An Schulkomputern mit Anaconda:<br>\n",
    "python -m pip install reportlab<br><br>"
   ]
  },
  {
   "cell_type": "markdown",
   "id": "0bc2789d",
   "metadata": {},
   "source": [
    "ReportLab Methoden/Funktionen:\n",
    "\n",
    "    c.setFont(\"Helvetica-Bold\", int)\n",
    "    c.drawString(x, y, sting)\n",
    "    oder c.drawRightString(x, y, sting)\n",
    "\n",
    "\n",
    "\n",
    "\n",
    "Wenn ihr die einzelnen Zellen ausführt, werden PDFs im Ordner \"PDFs\" erstellt.\n",
    "\n"
   ]
  },
  {
   "cell_type": "code",
   "execution_count": 1,
   "id": "bb35a321",
   "metadata": {},
   "outputs": [
    {
     "name": "stdout",
     "output_type": "stream",
     "text": [
      "X = 595 Y = 841\n"
     ]
    }
   ],
   "source": [
    "#Importiert wichtige Methoden und Blattgröße welche in  teilt diese in x un y aufgeteilt wird \n",
    "from reportlab.pdfgen import canvas\n",
    "from reportlab.lib.pagesizes import A4, A5, A3\n",
    "import json\n",
    "from json import load\n",
    "import string\n",
    "import math\n",
    "import datetime\n",
    "blatt = A4 \n",
    "x, y = blatt\n",
    "x,y = (int(x),int(y))\n",
    "print(f\"X = {x} Y = {y}\")"
   ]
  },
  {
   "cell_type": "markdown",
   "id": "b036712b",
   "metadata": {},
   "source": [
    "### Überschrift\n",
    "Erstelle eine Methode die oben Links die Überschrift setzt<br>\n",
    "Beachte eine Überschrift sollte größer sein<br>\n",
    "zum Vergleich schau dir \"L Titel.pdf\" an"
   ]
  },
  {
   "cell_type": "code",
   "execution_count": null,
   "id": "6bfdf7c8",
   "metadata": {},
   "outputs": [],
   "source": [
    "# Tipp: Nutze die drawString Methode.\n",
    "c = canvas.Canvas(\"PDFs/Titel.pdf\", pagesize=blatt)\n",
    "def titel(blatt, fontSize=40): # Nutze alle Parameter\n",
    "    \"\"\"Schreibt RECHNUNG groß oben links hin\"\"\"\n",
    "    tempx, tempy = blatt\n",
    "\n",
    "\n",
    "c.save()\n"
   ]
  },
  {
   "cell_type": "markdown",
   "id": "c31b4b05",
   "metadata": {},
   "source": [
    "### Empfänger\n",
    "Der Empfänger, sowie deren Adresse soll unter der Überschrift auf der linken seite stehen<br>\n",
    "In dieser Biblothek wird die nächste Zeile nicht gesetzt<br>\n",
    "zum vergleich schau dir \"L Receiver.pdf\" an"
   ]
  },
  {
   "cell_type": "code",
   "execution_count": null,
   "id": "9dcb60bf",
   "metadata": {},
   "outputs": [],
   "source": [
    "# Tipp: Schleife verwenden, erhöhe oder verkleinere den y-wert pro Durchlauf.\n",
    "c = canvas.Canvas(\"PDFs/Receiver.pdf\", pagesize=blatt)\n",
    "def receiver(person, blatt, fontSize=15): # Nutze alle Parameter\n",
    "    \"\"\"Schreibt den Rechnungsempfänger unter den Titel\"\"\"\n",
    "    tempx, tempy = blatt\n",
    "    #code\n",
    "    \n",
    "receiver([\"Vincent Muster\",\"Jede Strasse 123\",\"12345 Jede Stadt\"], A4) \n",
    "c.save()\n",
    "\n"
   ]
  },
  {
   "cell_type": "markdown",
   "id": "7c549b1b",
   "metadata": {},
   "source": [
    "### Rechnungsangaben\n",
    "Gibt die Rechnungsangaben von der Rechnungs Nummer und Datum auf der Rechten Seite aus<br>\n",
    "zum Vergleich schau dir \"L NrDatum.pdf\" an"
   ]
  },
  {
   "cell_type": "code",
   "execution_count": null,
   "id": "1c0523e0",
   "metadata": {},
   "outputs": [],
   "source": [
    "#Tipp: https://www.w3schools.com/python/python_datetime.asp\n",
    "#Tipp: Die strftime Methode kann so: \"%B. %d. %w\" als Parameter übergeben werden, um das Datum korrekt darzustellen.\n",
    "\n",
    "c = canvas.Canvas(\"PDFs/NrDatum.pdf\", pagesize=blatt)\n",
    "def nrDatum(rechnungsnummer, datum, fontSize, blatt): # Nutze alle Parameter\n",
    "    \"\"\"Schreibt die Rechnungsnummer an die Rechte seite der Rechnung\"\"\"\n",
    "    tempx, tempy = blatt\n",
    "    #code\n",
    "    \n",
    "    \n",
    "nrDatum(12345, \"1. 1. 2023\" , 15, A4) #Hier sollte das aktuelle Datum hin, statt dem festen Datum.\n",
    "c.save()\n"
   ]
  },
  {
   "cell_type": "markdown",
   "id": "e4c87e99",
   "metadata": {},
   "source": [
    "### Menge und Art der Lieferung/Leistung\n",
    "Achtung! Bevor ihr diese Aufgabe macht, überspringt sie und erledigt zuerst die nächste Aufgabe, und kommt dann anschließend wieder zurück.\n",
    "<br>\n",
    "<br>\n",
    "Für Schülern, die schnell sind. \n",
    "\n",
    "\n",
    "\n"
   ]
  },
  {
   "cell_type": "code",
   "execution_count": 5,
   "id": "e4dde096",
   "metadata": {},
   "outputs": [],
   "source": [
    "c = canvas.Canvas(\"PDFs/Einkaufliste.pdf\", pagesize=blatt)\n",
    "def rechnung(liste, fontSize=15): # Nutze alle Parameter\n",
    "    \"\"\"Nimmt die liste aus der json entgegen und gibt eine graphische \n",
    "    Liste mit gekauften Items in form einer Rechnung wieder\"\"\"\n",
    "    #code\n",
    "    \n",
    "with open(\"Einkaufliste.json\", \"r\",encoding=\"UTF-8\") as file:\n",
    "    file = json.load(file)\n",
    "    rechnung(file[\"einkaufsliste\"])\n",
    "c.save()\n"
   ]
  },
  {
   "cell_type": "markdown",
   "id": "c6e1dad9",
   "metadata": {},
   "source": [
    "## Komplette Lösung\n",
    "Kombiniert alle bisherigen Funktionen<br>\n",
    "um die Rechnung darzustellen.\n",
    "\n"
   ]
  },
  {
   "cell_type": "code",
   "execution_count": null,
   "id": "8610ad8d",
   "metadata": {},
   "outputs": [
    {
     "name": "stdout",
     "output_type": "stream",
     "text": [
      "X = 595.2755905511812 Y = 841.8897637795277\n",
      "X = 419.52755905511816 Y = 595.2755905511812\n"
     ]
    }
   ],
   "source": [
    "#Tipp: Nutze die vorherigen Funktionen um eine komplette Rechnung zu erstellen.\n",
    "#Tipp: Die json Datei musst ihr verwenden, um die Informationen zu holen, um die dann in die Funktionen einzufügen.\n",
    "\n",
    "def create_pdf(json_data, blatt):\n",
    "    \"\"\"Gibt eine Komplette Rechnung in PDF-Format\"\"\"\n",
    "    with open(json_data, \"r\",encoding=\"UTF-8\") as file:\n",
    "        global c, x, y \n",
    "        x,y = blatt\n",
    "        print(f\"X = {x} Y = {y}\")\n",
    "        x,y = (int(x),int(y))\n",
    "        file = json.load(file)\n",
    "        c = canvas.Canvas(f\"PDFs/Rechnung_{file['person']['name']}.pdf\", pagesize=blatt) \n",
    "        #code\n",
    "        #titel() 3 parametern erwartet.\n",
    "        #receiver() 4 parametern erwartet.\n",
    "        #nrDatum() 4 parametern erwartet.\n",
    "        # rechnung() 2 parametern erwartet.\n",
    "        c.save()\n",
    "\n",
    "create_pdf(\"Einkaufliste.json\", A4)\n",
    "create_pdf(\"Einkaufliste2.json\", A5)"
   ]
  }
 ],
 "metadata": {
  "kernelspec": {
   "display_name": "Python 3",
   "language": "python",
   "name": "python3"
  },
  "language_info": {
   "codemirror_mode": {
    "name": "ipython",
    "version": 3
   },
   "file_extension": ".py",
   "mimetype": "text/x-python",
   "name": "python",
   "nbconvert_exporter": "python",
   "pygments_lexer": "ipython3",
   "version": "3.11.9"
  }
 },
 "nbformat": 4,
 "nbformat_minor": 5
}
