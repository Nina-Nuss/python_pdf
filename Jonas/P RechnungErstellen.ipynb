{
 "cells": [
  {
   "cell_type": "code",
   "execution_count": 6,
   "id": "bb35a321",
   "metadata": {},
   "outputs": [
    {
     "name": "stdout",
     "output_type": "stream",
     "text": [
      "X = 595 Y = 841\n"
     ]
    }
   ],
   "source": [
    "from reportlab.pdfgen import canvas\n",
    "from reportlab.lib.pagesizes import A4\n",
    "x,y = A4\n",
    "x,y = (int(x),int(y))\n",
    "print(f\"X = {x} Y = {y}\")\n",
    "\n"
   ]
  },
  {
   "cell_type": "code",
   "execution_count": 7,
   "id": "6bfdf7c8",
   "metadata": {},
   "outputs": [
    {
     "name": "stdout",
     "output_type": "stream",
     "text": [
      "59.5 756.9\n"
     ]
    }
   ],
   "source": [
    "import string\n",
    "c = canvas.Canvas(\"Titel.pdf\", pagesize=A4)\n",
    "def titel():\n",
    "    \"\"\"Schreibt RECHNUNG groß oben links hin\"\"\"\n",
    "    c.setFontSize(60)    \n",
    "    c.drawString(x*0.1,y-y*0.15,\"RECHNUNG\")\n",
    "    print(x*0.1,y-y*0.1)\n",
    "titel()\n",
    "c.save()"
   ]
  },
  {
   "cell_type": "code",
   "execution_count": 8,
   "id": "9dcb60bf",
   "metadata": {},
   "outputs": [
    {
     "ename": "FileNotFoundError",
     "evalue": "[Errno 2] No such file or directory: '../assets/Receiver.pdf'",
     "output_type": "error",
     "traceback": [
      "\u001b[31m---------------------------------------------------------------------------\u001b[39m",
      "\u001b[31mFileNotFoundError\u001b[39m                         Traceback (most recent call last)",
      "\u001b[36mCell\u001b[39m\u001b[36m \u001b[39m\u001b[32mIn[8]\u001b[39m\u001b[32m, line 12\u001b[39m\n\u001b[32m      9\u001b[39m         c.drawString(tempx, tempy,i)\n\u001b[32m     11\u001b[39m receiver([\u001b[33m\"\u001b[39m\u001b[33mVincent Muster\u001b[39m\u001b[33m\"\u001b[39m,\u001b[33m\"\u001b[39m\u001b[33mJede Strasse 123\u001b[39m\u001b[33m\"\u001b[39m,\u001b[33m\"\u001b[39m\u001b[33m12345 Jede Stadt\u001b[39m\u001b[33m\"\u001b[39m])\n\u001b[32m---> \u001b[39m\u001b[32m12\u001b[39m \u001b[43mc\u001b[49m\u001b[43m.\u001b[49m\u001b[43msave\u001b[49m\u001b[43m(\u001b[49m\u001b[43m)\u001b[49m\n",
      "\u001b[36mFile \u001b[39m\u001b[32m~\\AppData\\Local\\Packages\\PythonSoftwareFoundation.Python.3.11_qbz5n2kfra8p0\\LocalCache\\local-packages\\Python311\\site-packages\\reportlab\\pdfgen\\canvas.py:1301\u001b[39m, in \u001b[36mCanvas.save\u001b[39m\u001b[34m(self)\u001b[39m\n\u001b[32m   1297\u001b[39m \u001b[38;5;250m\u001b[39m\u001b[33;03m\"\"\"Saves and close the PDF document in the file.\u001b[39;00m\n\u001b[32m   1298\u001b[39m \u001b[33;03m   If there is current data a ShowPage is executed automatically.\u001b[39;00m\n\u001b[32m   1299\u001b[39m \u001b[33;03m   After this operation the canvas must not be used further.\"\"\"\u001b[39;00m\n\u001b[32m   1300\u001b[39m \u001b[38;5;28;01mif\u001b[39;00m \u001b[38;5;28mlen\u001b[39m(\u001b[38;5;28mself\u001b[39m._code): \u001b[38;5;28mself\u001b[39m.showPage()\n\u001b[32m-> \u001b[39m\u001b[32m1301\u001b[39m \u001b[38;5;28;43mself\u001b[39;49m\u001b[43m.\u001b[49m\u001b[43m_doc\u001b[49m\u001b[43m.\u001b[49m\u001b[43mSaveToFile\u001b[49m\u001b[43m(\u001b[49m\u001b[38;5;28;43mself\u001b[39;49m\u001b[43m.\u001b[49m\u001b[43m_filename\u001b[49m\u001b[43m,\u001b[49m\u001b[43m \u001b[49m\u001b[38;5;28;43mself\u001b[39;49m\u001b[43m)\u001b[49m\n",
      "\u001b[36mFile \u001b[39m\u001b[32m~\\AppData\\Local\\Packages\\PythonSoftwareFoundation.Python.3.11_qbz5n2kfra8p0\\LocalCache\\local-packages\\Python311\\site-packages\\reportlab\\pdfbase\\pdfdoc.py:208\u001b[39m, in \u001b[36mPDFDocument.SaveToFile\u001b[39m\u001b[34m(self, filename, canvas)\u001b[39m\n\u001b[32m    206\u001b[39m     myfile = \u001b[32m1\u001b[39m\n\u001b[32m    207\u001b[39m     filename = makeFileName(filename)\n\u001b[32m--> \u001b[39m\u001b[32m208\u001b[39m     f = \u001b[38;5;28;43mopen\u001b[39;49m\u001b[43m(\u001b[49m\u001b[43mfilename\u001b[49m\u001b[43m,\u001b[49m\u001b[43m \u001b[49m\u001b[33;43m\"\u001b[39;49m\u001b[33;43mwb\u001b[39;49m\u001b[33;43m\"\u001b[39;49m\u001b[43m)\u001b[49m\n\u001b[32m    209\u001b[39m \u001b[38;5;28;01melse\u001b[39;00m:\n\u001b[32m    210\u001b[39m     \u001b[38;5;28;01mraise\u001b[39;00m \u001b[38;5;167;01mTypeError\u001b[39;00m(\u001b[33m'\u001b[39m\u001b[33mCannot use \u001b[39m\u001b[38;5;132;01m%s\u001b[39;00m\u001b[33m as a filename or file\u001b[39m\u001b[33m'\u001b[39m % \u001b[38;5;28mrepr\u001b[39m(filename))\n",
      "\u001b[31mFileNotFoundError\u001b[39m: [Errno 2] No such file or directory: '../assets/Receiver.pdf'"
     ]
    }
   ],
   "source": [
    "c = canvas.Canvas(\"../assets/Receiver.pdf\", pagesize=A4)\n",
    "def receiver(person):\n",
    "    \"\"\"Schreibt den Rechnungsempfänger unter den Titel\"\"\"\n",
    "    c.setFontSize(15)\n",
    "    c.drawString(x*0.1,y-y*0.20,\"RECHNUNG AN:\")\n",
    "    tempx, tempy = x*0.1,y-y*0.20 -10\n",
    "    for i in person:\n",
    "        tempx, tempy = tempx, tempy -15\n",
    "        c.drawString(tempx, tempy,i)\n",
    "\n",
    "receiver([\"Vincent Muster\",\"Jede Strasse 123\",\"12345 Jede Stadt\"])\n",
    "c.save()"
   ]
  },
  {
   "cell_type": "code",
   "execution_count": null,
   "id": "1c0523e0",
   "metadata": {},
   "outputs": [],
   "source": [
    "from datetime import datetime\n",
    "c = canvas.Canvas(\"NrDatum.pdf\", pagesize=A4)\n",
    "def nrDatum(nummer, datum):\n",
    "    \"\"\"Schreibt die Rechnungsnummer an die Rechte seite der Rechnung\"\"\"\n",
    "    c.setFontSize(15)\n",
    "    tempx, tempy = x-x*0.1,y-y*0.20\n",
    "    c.drawRightString(tempx, tempy, f\"Rechnung NR. {nummer}\")\n",
    "    tempx, tempy = tempx, tempy -15\n",
    "    c.drawRightString(tempx, tempy, datum)\n",
    "\n",
    "nrDatum(12345, datetime.today().strftime('%d . %m . %Y'))\n",
    "c.save()"
   ]
  },
  {
   "cell_type": "code",
   "execution_count": null,
   "id": "e4dde096",
   "metadata": {},
   "outputs": [
    {
     "name": "stdout",
     "output_type": "stream",
     "text": [
      "28.13\n"
     ]
    }
   ],
   "source": [
    "import json\n",
    "import math\n",
    "from json import load\n",
    "c = canvas.Canvas(\"Einkaufsliste.pdf\", pagesize=A4)\n",
    "def rechnung(einkaufsliste):\n",
    "    \"\"\"Nimmt ein jsonfilepath zu einer Einkaufliste entgegen\n",
    "    und gibt eine graphische Liste mit den gekauften Items wieder\"\"\"\n",
    "    steuer = 19\n",
    "    c.setFontSize(15)\n",
    "    tempx, tempy = x-x*0.1,y-y*0.35\n",
    "    # tempx, tempy = tempx, tempy -10\n",
    "    # with open(jsonfilepath, \"r\",encoding=\"UTF-8\") as file:\n",
    "\n",
    "    # file = json.load(file)\n",
    "    c.drawRightString(tempx, tempy, file[\"verkäufer\"])\n",
    "    tempx, tempy = x*0.1,y-y*0.35\n",
    "    tempx, tempy = tempx, tempy -10\n",
    "    c.line(x *0.9, tempy, x * 0.1, tempy)\n",
    "    tempx, tempy = tempx, tempy -20\n",
    "    c.drawString(tempx + 10, tempy, \"Beschreibung\")\n",
    "    c.drawString(x * 0.5, tempy, \"Anzahl\")\n",
    "    c.drawString(x * 0.65, tempy, \"Preis\")\n",
    "    c.drawString(x * 0.8, tempy, \"Summe\")\n",
    "    tempx, tempy = tempx, tempy -20\n",
    "    c.line(x *0.9, tempy, x * 0.1, tempy)\n",
    "    zwischensumme = 0\n",
    "    for i in einkaufsliste:\n",
    "        tempx, tempy = tempx, tempy -20\n",
    "        c.drawString(tempx + 10, tempy, i[\"produkt\"])\n",
    "        c.drawString(x * 0.5, tempy, str(i[\"menge\"]))\n",
    "        c.drawString(x * 0.65, tempy, str(i[\"preis_pro_einheit\"]) + \"€\")\n",
    "        # summe = (int((i[\"preis_pro_einheit\"] * i[\"menge\"])*100))/100\n",
    "        summe = round(i[\"preis_pro_einheit\"] * i[\"menge\"],2)\n",
    "        c.drawString(x * 0.8, tempy, str(summe) + \"€\")\n",
    "        zwischensumme += summe\n",
    "        tempx, tempy = tempx, tempy -20\n",
    "        c.line(x *0.9, tempy, x * 0.1, tempy)\n",
    "    tempx, tempy = tempx, tempy -20\n",
    "    c.drawString(x * 0.5, tempy, f\"Zwischensumme\")\n",
    "    c.drawString(x * 0.8, tempy, f\"{zwischensumme}€\")\n",
    "    \n",
    "    tempx, tempy = tempx, tempy -40\n",
    "    c.drawString(x * 0.5, tempy, f\"Steuer ({steuer} %)\")\n",
    "    steuer = round(zwischensumme * (steuer /100),2)\n",
    "    c.drawString(x * 0.8, tempy, f\"{steuer}€\")\n",
    "    tempx, tempy = tempx, tempy -20\n",
    "    c.line(x *0.9, tempy, x * 0.1, tempy)\n",
    "    tempx, tempy = tempx, tempy -20\n",
    "    c.drawString(x * 0.5, tempy, f\"Summe\")\n",
    "    endsumme = round(zwischensumme + steuer,2)\n",
    "    c.drawString(x * 0.8, tempy, f\"{endsumme}€\")\n",
    "    print(endsumme)\n",
    "\n",
    "\n",
    "with open(\"Einkaufliste.json\", \"r\",encoding=\"UTF-8\") as file:\n",
    "    file = json.load(file)\n",
    "    rechnung(file[\"einkaufsliste\"])\n",
    "\n",
    "c.save()"
   ]
  },
  {
   "cell_type": "code",
   "execution_count": null,
   "id": "8610ad8d",
   "metadata": {},
   "outputs": [
    {
     "ename": "NameError",
     "evalue": "name 'json' is not defined",
     "output_type": "error",
     "traceback": [
      "\u001b[31m---------------------------------------------------------------------------\u001b[39m",
      "\u001b[31mNameError\u001b[39m                                 Traceback (most recent call last)",
      "\u001b[36mCell\u001b[39m\u001b[36m \u001b[39m\u001b[32mIn[5]\u001b[39m\u001b[32m, line 2\u001b[39m\n\u001b[32m      1\u001b[39m \u001b[38;5;28;01mwith\u001b[39;00m \u001b[38;5;28mopen\u001b[39m(\u001b[33m\"\u001b[39m\u001b[33mEinkaufliste.json\u001b[39m\u001b[33m\"\u001b[39m, \u001b[33m\"\u001b[39m\u001b[33mr\u001b[39m\u001b[33m\"\u001b[39m,encoding=\u001b[33m\"\u001b[39m\u001b[33mUTF-8\u001b[39m\u001b[33m\"\u001b[39m) \u001b[38;5;28;01mas\u001b[39;00m file:\n\u001b[32m----> \u001b[39m\u001b[32m2\u001b[39m     file = \u001b[43mjson\u001b[49m.load(file)\n\u001b[32m      3\u001b[39m     c = canvas.Canvas(\u001b[33m\"\u001b[39m\u001b[33mRechnung.pdf\u001b[39m\u001b[33m\"\u001b[39m, pagesize=A4)\n\u001b[32m      4\u001b[39m     titel()\n",
      "\u001b[31mNameError\u001b[39m: name 'json' is not defined"
     ]
    }
   ],
   "source": [
    "with open(\"Einkaufliste.json\", \"r\",encoding=\"UTF-8\") as file:\n",
    "    file = json.load(file)\n",
    "    c = canvas.Canvas(\"Rechnung.pdf\", pagesize=A4)\n",
    "    titel()\n",
    "    receiver([file[\"person\"][\"name\"] + file[\"person\"][\"nachname\"], file[\"person\"][\"wohnort\"], str(file[\"person\"][\"postleitzahl\"]) + file[\"person\"][\"stadt\"]])\n",
    "    nrDatum(file[\"vertragsnummer\"], datetime.today().strftime('%d . %m . %Y'))\n",
    "    rechnung(file[\"einkaufsliste\"])\n",
    "    c.save()\n"
   ]
  }
 ],
 "metadata": {
  "kernelspec": {
   "display_name": "Python 3",
   "language": "python",
   "name": "python3"
  },
  "language_info": {
   "codemirror_mode": {
    "name": "ipython",
    "version": 3
   },
   "file_extension": ".py",
   "mimetype": "text/x-python",
   "name": "python",
   "nbconvert_exporter": "python",
   "pygments_lexer": "ipython3",
   "version": "3.11.9"
  }
 },
 "nbformat": 4,
 "nbformat_minor": 5
}
