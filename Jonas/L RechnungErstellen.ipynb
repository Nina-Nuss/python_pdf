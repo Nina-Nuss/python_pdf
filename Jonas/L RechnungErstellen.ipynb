{
 "cells": [
  {
   "cell_type": "code",
   "execution_count": 44,
   "id": "bb35a321",
   "metadata": {},
   "outputs": [
    {
     "name": "stdout",
     "output_type": "stream",
     "text": [
      "X = 595 Y = 841\n"
     ]
    }
   ],
   "source": [
    "from reportlab.pdfgen import canvas\n",
    "from reportlab.lib.pagesizes import A4, A5, A3\n",
    "blatt = A4\n",
    "x,y = blatt\n",
    "x,y = (int(x),int(y))\n",
    "print(f\"X = {x} Y = {y}\")\n",
    "\n"
   ]
  },
  {
   "cell_type": "code",
   "execution_count": 45,
   "id": "6bfdf7c8",
   "metadata": {},
   "outputs": [],
   "source": [
    "import string\n",
    "c = canvas.Canvas(\"L Titel.pdf\", pagesize=blatt)\n",
    "\n",
    "def titel():\n",
    "    \"\"\"Schreibt RECHNUNG groß oben links hin\"\"\"\n",
    "    c.setFontSize(60)    \n",
    "    c.drawString(x*0.1,y-y*0.15,\"RECHNUNG\")\n",
    "    # print(x*0.1,y-y*0.1)\n",
    "\n",
    "titel()\n",
    "c.save()"
   ]
  },
  {
   "cell_type": "code",
   "execution_count": 46,
   "id": "9dcb60bf",
   "metadata": {},
   "outputs": [],
   "source": [
    "c = canvas.Canvas(\"L Receiver.pdf\", pagesize=blatt)\n",
    "def receiver(person):\n",
    "    \"\"\"Schreibt den Rechnungsempfänger unter den Titel\"\"\"\n",
    "    c.setFontSize(15)\n",
    "    c.drawString(x*0.1,y-y*0.20,\"RECHNUNG AN:\")\n",
    "    tempx, tempy = x*0.1,y-y*0.20 -15\n",
    "    for i in person:\n",
    "        tempx, tempy = tempx, tempy -15\n",
    "        c.drawString(tempx, tempy,i)\n",
    "\n",
    "receiver([\"Vincent Muster\",\"Jede Strasse 123\",\"12345 Jede Stadt\"])\n",
    "c.save()"
   ]
  },
  {
   "cell_type": "code",
   "execution_count": 47,
   "id": "1c0523e0",
   "metadata": {},
   "outputs": [],
   "source": [
    "from datetime import datetime\n",
    "c = canvas.Canvas(\"L NrDatum.pdf\", pagesize=blatt)\n",
    "def nrDatum(nummer, datum):\n",
    "    \"\"\"Schreibt die Rechnungsnummer an die Rechte seite der Rechnung\"\"\"\n",
    "    c.setFontSize(15)\n",
    "    tempx, tempy = x-x*0.1,y-y*0.20\n",
    "    c.drawRightString(tempx, tempy, f\"Rechnung NR. {nummer}\")\n",
    "    tempx, tempy = tempx, tempy -15\n",
    "    c.drawRightString(tempx, tempy, datum)\n",
    "\n",
    "nrDatum(12345, datetime.today().strftime('%d . %m . %Y'))\n",
    "c.save()"
   ]
  },
  {
   "cell_type": "code",
   "execution_count": 48,
   "id": "e4dde096",
   "metadata": {},
   "outputs": [],
   "source": [
    "import json\n",
    "import math\n",
    "from json import load\n",
    "c = canvas.Canvas(\"L Einkaufsliste.pdf\", pagesize=blatt)\n",
    "def rechnung(einkaufsliste):\n",
    "    \"\"\"Nimmt ein jsonfilepath zu einer Einkaufliste entgegen\n",
    "    und gibt eine graphische Liste mit den gekauften Items wieder\"\"\"\n",
    "    steuer = 19\n",
    "    c.setFontSize(15)\n",
    "    tempx, tempy = x-x*0.1,y-y*0.35\n",
    "    # tempx, tempy = tempx, tempy -10\n",
    "    # with open(jsonfilepath, \"r\",encoding=\"UTF-8\") as file:\n",
    "\n",
    "    # file = json.load(file)\n",
    "    c.drawRightString(tempx, tempy, file[\"verkäufer\"])\n",
    "    tempx, tempy = x*0.1,y-y*0.35\n",
    "    tempx, tempy = tempx, tempy -10\n",
    "    c.line(x *0.9, tempy, x * 0.1, tempy)\n",
    "    tempx, tempy = tempx, tempy -20\n",
    "    c.drawString(tempx + 10, tempy, \"Beschreibung\")\n",
    "    c.drawString(x * 0.5, tempy, \"Anzahl\")\n",
    "    c.drawString(x * 0.65, tempy, \"Preis\")\n",
    "    c.drawString(x * 0.8, tempy, \"Summe\")\n",
    "    tempx, tempy = tempx, tempy -20\n",
    "    c.line(x *0.9, tempy, x * 0.1, tempy)\n",
    "    zwischensumme = 0\n",
    "    for i in einkaufsliste:\n",
    "        tempx, tempy = tempx, tempy -20\n",
    "        c.drawString(tempx + 10, tempy, i[\"produkt\"])\n",
    "        c.drawString(x * 0.5, tempy, str(i[\"menge\"]))\n",
    "        c.drawString(x * 0.65, tempy, str(i[\"preis_pro_einheit\"]) + \"€\")\n",
    "        # summe = (int((i[\"preis_pro_einheit\"] * i[\"menge\"])*100))/100\n",
    "        summe = round(i[\"preis_pro_einheit\"] * i[\"menge\"],2)\n",
    "        c.drawString(x * 0.8, tempy, str(summe) + \"€\")\n",
    "        zwischensumme += summe\n",
    "        tempx, tempy = tempx, tempy -20\n",
    "        c.line(x *0.9, tempy, x * 0.1, tempy)\n",
    "    tempx, tempy = tempx, tempy -20\n",
    "    c.drawString(x * 0.5, tempy, f\"Zwischensumme\")\n",
    "    c.drawString(x * 0.8, tempy, f\"{zwischensumme}€\")\n",
    "    \n",
    "    tempx, tempy = tempx, tempy -40\n",
    "    c.drawString(x * 0.5, tempy, f\"Steuer ({steuer} %)\")\n",
    "    steuer = round(zwischensumme * (steuer /100),2)\n",
    "    c.drawString(x * 0.8, tempy, f\"{steuer}€\")\n",
    "    tempx, tempy = tempx, tempy -20\n",
    "    c.line(x *0.9, tempy, x * 0.5, tempy)\n",
    "    tempx, tempy = tempx, tempy -20\n",
    "    c.drawString(x * 0.5, tempy, f\"Summe\")\n",
    "    endsumme = round(zwischensumme + steuer,2)\n",
    "    c.drawString(x * 0.8, tempy, f\"{endsumme}€\")\n",
    "    # print(endsumme)\n",
    "\n",
    "\n",
    "with open(\"Einkaufliste.json\", \"r\",encoding=\"UTF-8\") as file:\n",
    "    file = json.load(file)\n",
    "    rechnung(file[\"einkaufsliste\"])\n",
    "\n",
    "c.save()"
   ]
  },
  {
   "cell_type": "markdown",
   "id": "c6e1dad9",
   "metadata": {},
   "source": [
    "#Komplette Lösung"
   ]
  },
  {
   "cell_type": "code",
   "execution_count": 49,
   "id": "8610ad8d",
   "metadata": {},
   "outputs": [
    {
     "ename": "FileNotFoundError",
     "evalue": "[Errno 2] No such file or directory: 'L Einkaufliste.json'",
     "output_type": "error",
     "traceback": [
      "\u001b[31m---------------------------------------------------------------------------\u001b[39m",
      "\u001b[31mFileNotFoundError\u001b[39m                         Traceback (most recent call last)",
      "\u001b[36mCell\u001b[39m\u001b[36m \u001b[39m\u001b[32mIn[49]\u001b[39m\u001b[32m, line 1\u001b[39m\n\u001b[32m----> \u001b[39m\u001b[32m1\u001b[39m \u001b[38;5;28;01mwith\u001b[39;00m \u001b[38;5;28;43mopen\u001b[39;49m\u001b[43m(\u001b[49m\u001b[33;43m\"\u001b[39;49m\u001b[33;43mL Einkaufliste.json\u001b[39;49m\u001b[33;43m\"\u001b[39;49m\u001b[43m,\u001b[49m\u001b[43m \u001b[49m\u001b[33;43m\"\u001b[39;49m\u001b[33;43mr\u001b[39;49m\u001b[33;43m\"\u001b[39;49m\u001b[43m,\u001b[49m\u001b[43mencoding\u001b[49m\u001b[43m=\u001b[49m\u001b[33;43m\"\u001b[39;49m\u001b[33;43mUTF-8\u001b[39;49m\u001b[33;43m\"\u001b[39;49m\u001b[43m)\u001b[49m \u001b[38;5;28;01mas\u001b[39;00m file:\n\u001b[32m      2\u001b[39m     file = json.load(file)\n\u001b[32m      3\u001b[39m     c = canvas.Canvas(\u001b[33mf\u001b[39m\u001b[33m\"\u001b[39m\u001b[38;5;132;01m{\u001b[39;00mfile[\u001b[33m\"\u001b[39m\u001b[33mperson\u001b[39m\u001b[33m\"\u001b[39m][\u001b[33m\"\u001b[39m\u001b[33mname\u001b[39m\u001b[33m\"\u001b[39m]\u001b[38;5;250m \u001b[39m+\u001b[38;5;250m \u001b[39mfile[\u001b[33m\"\u001b[39m\u001b[33mperson\u001b[39m\u001b[33m\"\u001b[39m][\u001b[33m\"\u001b[39m\u001b[33mnachname\u001b[39m\u001b[33m\"\u001b[39m]\u001b[38;5;132;01m}\u001b[39;00m\u001b[33mRechnung.pdf\u001b[39m\u001b[33m\"\u001b[39m, pagesize=blatt)\n",
      "\u001b[36mFile \u001b[39m\u001b[32m~\\AppData\\Local\\Packages\\PythonSoftwareFoundation.Python.3.13_qbz5n2kfra8p0\\LocalCache\\local-packages\\Python313\\site-packages\\IPython\\core\\interactiveshell.py:343\u001b[39m, in \u001b[36m_modified_open\u001b[39m\u001b[34m(file, *args, **kwargs)\u001b[39m\n\u001b[32m    336\u001b[39m \u001b[38;5;28;01mif\u001b[39;00m file \u001b[38;5;129;01min\u001b[39;00m {\u001b[32m0\u001b[39m, \u001b[32m1\u001b[39m, \u001b[32m2\u001b[39m}:\n\u001b[32m    337\u001b[39m     \u001b[38;5;28;01mraise\u001b[39;00m \u001b[38;5;167;01mValueError\u001b[39;00m(\n\u001b[32m    338\u001b[39m         \u001b[33mf\u001b[39m\u001b[33m\"\u001b[39m\u001b[33mIPython won\u001b[39m\u001b[33m'\u001b[39m\u001b[33mt let you open fd=\u001b[39m\u001b[38;5;132;01m{\u001b[39;00mfile\u001b[38;5;132;01m}\u001b[39;00m\u001b[33m by default \u001b[39m\u001b[33m\"\u001b[39m\n\u001b[32m    339\u001b[39m         \u001b[33m\"\u001b[39m\u001b[33mas it is likely to crash IPython. If you know what you are doing, \u001b[39m\u001b[33m\"\u001b[39m\n\u001b[32m    340\u001b[39m         \u001b[33m\"\u001b[39m\u001b[33myou can use builtins\u001b[39m\u001b[33m'\u001b[39m\u001b[33m open.\u001b[39m\u001b[33m\"\u001b[39m\n\u001b[32m    341\u001b[39m     )\n\u001b[32m--> \u001b[39m\u001b[32m343\u001b[39m \u001b[38;5;28;01mreturn\u001b[39;00m \u001b[43mio_open\u001b[49m\u001b[43m(\u001b[49m\u001b[43mfile\u001b[49m\u001b[43m,\u001b[49m\u001b[43m \u001b[49m\u001b[43m*\u001b[49m\u001b[43margs\u001b[49m\u001b[43m,\u001b[49m\u001b[43m \u001b[49m\u001b[43m*\u001b[49m\u001b[43m*\u001b[49m\u001b[43mkwargs\u001b[49m\u001b[43m)\u001b[49m\n",
      "\u001b[31mFileNotFoundError\u001b[39m: [Errno 2] No such file or directory: 'L Einkaufliste.json'"
     ]
    }
   ],
   "source": [
    "with open(\"L Einkaufliste.json\", \"r\",encoding=\"UTF-8\") as file:\n",
    "    file = json.load(file)\n",
    "    c = canvas.Canvas(f\"{file[\"person\"][\"name\"] + file[\"person\"][\"nachname\"]}Rechnung.pdf\", pagesize=blatt)\n",
    "    titel()\n",
    "    receiver([file[\"person\"][\"name\"] + file[\"person\"][\"nachname\"], file[\"person\"][\"wohnort\"], str(file[\"person\"][\"postleitzahl\"]) + file[\"person\"][\"stadt\"]])\n",
    "    nrDatum(file[\"vertragsnummer\"], datetime.today().strftime('%d . %m . %Y'))\n",
    "    rechnung(file[\"einkaufsliste\"])\n",
    "    c.save()\n",
    "\n",
    "\n",
    "\n",
    "\n",
    "\n",
    "\n",
    "\n",
    "\n",
    "\n",
    "\n",
    "\n",
    "\n",
    "\n",
    "\n",
    "\n",
    "\n",
    "\n",
    "\n",
    "\n",
    "\n",
    "\n",
    "\n",
    "\n",
    "\n",
    "\n",
    "\n",
    "\n",
    "with open(\"Einkaufliste.json\", \"r\",encoding=\"UTF-8\") as file:\n",
    "    file = json.load(file)\n",
    "    c = canvas.Canvas(\"RechnungA3.pdf\", pagesize=A3)\n",
    "    titel()\n",
    "    receiver([file[\"person\"][\"name\"] + file[\"person\"][\"nachname\"], file[\"person\"][\"wohnort\"], str(file[\"person\"][\"postleitzahl\"]) + file[\"person\"][\"stadt\"]])\n",
    "    nrDatum(file[\"vertragsnummer\"], datetime.today().strftime('%d . %m . %Y'))\n",
    "    rechnung(file[\"einkaufsliste\"])\n",
    "    c.save()\n",
    "\n",
    "\n",
    "with open(\"Einkaufliste.json\", \"r\",encoding=\"UTF-8\") as file:\n",
    "    file = json.load(file)\n",
    "    c = canvas.Canvas(\"RechnungA5.pdf\", pagesize=A5)\n",
    "    titel()\n",
    "    receiver([file[\"person\"][\"name\"] + file[\"person\"][\"nachname\"], file[\"person\"][\"wohnort\"], str(file[\"person\"][\"postleitzahl\"]) + file[\"person\"][\"stadt\"]])\n",
    "    nrDatum(file[\"vertragsnummer\"], datetime.today().strftime('%d . %m . %Y'))\n",
    "    rechnung(file[\"einkaufsliste\"])\n",
    "    c.save()\n"
   ]
  }
 ],
 "metadata": {
  "kernelspec": {
   "display_name": "Python 3",
   "language": "python",
   "name": "python3"
  },
  "language_info": {
   "codemirror_mode": {
    "name": "ipython",
    "version": 3
   },
   "file_extension": ".py",
   "mimetype": "text/x-python",
   "name": "python",
   "nbconvert_exporter": "python",
   "pygments_lexer": "ipython3",
   "version": "3.13.8"
  }
 },
 "nbformat": 4,
 "nbformat_minor": 5
}
