{
 "cells": [
  {
   "cell_type": "code",
   "execution_count": 136,
   "id": "bb35a321",
   "metadata": {},
   "outputs": [
    {
     "name": "stdout",
     "output_type": "stream",
     "text": [
      "X = 595 Y = 841\n"
     ]
    }
   ],
   "source": [
    "from reportlab.pdfgen import canvas\n",
    "from reportlab.lib.pagesizes import A4, A5, A3\n",
    "blatt = A4\n",
    "x,y = blatt\n",
    "x,y = (int(x),int(y))\n",
    "print(f\"X = {x} Y = {y}\")\n",
    "\n"
   ]
  },
  {
   "cell_type": "code",
   "execution_count": 137,
   "id": "6bfdf7c8",
   "metadata": {},
   "outputs": [],
   "source": [
    "import string\n",
    "c = canvas.Canvas(\"Lösungen/Titel.pdf\", pagesize=blatt)\n",
    "def titel(fontSize=60):\n",
    "    \"\"\"Schreibt RECHNUNG groß oben links hin\"\"\"\n",
    "    c.setFontSize(fontSize)    \n",
    "    c.drawString(x*0.1,y-y*0.15,\"RECHNUNG\")\n",
    "    # print(x*0.1,y-y*0.1)\n",
    "\n",
    "titel()\n",
    "c.save()"
   ]
  },
  {
   "cell_type": "code",
   "execution_count": 138,
   "id": "9dcb60bf",
   "metadata": {},
   "outputs": [],
   "source": [
    "c = canvas.Canvas(\"Lösungen/Receiver.pdf\", pagesize=blatt)\n",
    "def receiver(person, fontSize=15):\n",
    "    \"\"\"Schreibt den Rechnungsempfänger unter den Titel\"\"\"\n",
    "    c.setFontSize(fontSize)\n",
    "    c.drawString(x*0.1,y-y*0.20,\"RECHNUNG AN:\")\n",
    "    tempx, tempy = x*0.1,y-y*0.20 -15\n",
    "    for i in person:\n",
    "        tempx, tempy = tempx, tempy -15\n",
    "        c.drawString(tempx, tempy,i)\n",
    "\n",
    "receiver([\"Vincent Muster\",\"Jede Strasse 123\",\"12345 Jede Stadt\"])\n",
    "c.save()"
   ]
  },
  {
   "cell_type": "code",
   "execution_count": 139,
   "id": "1c0523e0",
   "metadata": {},
   "outputs": [],
   "source": [
    "from datetime import datetime\n",
    "c = canvas.Canvas(\"Lösungen/NrDatum.pdf\", pagesize=blatt)\n",
    "def nrDatum(nummer, datum, fontSize=15):\n",
    "    \"\"\"Schreibt die Rechnungsnummer an die Rechte seite der Rechnung\"\"\"\n",
    "    c.setFontSize(fontSize)\n",
    "    tempx, tempy = x-x*0.1,y-y*0.20\n",
    "    c.drawRightString(tempx, tempy, f\"Rechnung NR. {nummer}\")\n",
    "    tempx, tempy = tempx, tempy -15\n",
    "    c.drawRightString(tempx, tempy, datum)\n",
    "\n",
    "nrDatum(12345, datetime.today().strftime('%d . %m . %Y'))\n",
    "c.save()"
   ]
  },
  {
   "cell_type": "code",
   "execution_count": 140,
   "id": "e4dde096",
   "metadata": {},
   "outputs": [],
   "source": [
    "import json\n",
    "import math\n",
    "from json import load\n",
    "c = canvas.Canvas(\"Lösungen/Einkaufliste.pdf\", pagesize=blatt)\n",
    "def rechnung(liste, fontSize=15):\n",
    "    \"\"\"Nimmt die liste aus der json  entgegen und gibt eine graphische \n",
    "    Liste mit gekauften Items in form einer Rechnung wieder\"\"\"\n",
    "    steuer = 19\n",
    "    c.setFontSize(fontSize)\n",
    "    tempx, tempy = x-x*0.1,y-y*0.35\n",
    "    # tempx, tempy = tempx, tempy -10\n",
    "    # with open(jsonfilepath, \"r\",encoding=\"UTF-8\") as file:\n",
    "\n",
    "    # file = json.load(file)\n",
    "    c.drawRightString(tempx, tempy, file[\"verkäufer\"])\n",
    "    tempx, tempy = x*0.1,y-y*0.35\n",
    "    tempx, tempy = tempx, tempy -10\n",
    "    c.line(x *0.9, tempy, x * 0.1, tempy)\n",
    "    tempx, tempy = tempx, tempy -20\n",
    "    c.drawString(tempx + 10, tempy, \"Beschreibung\")\n",
    "    c.drawString(x * 0.5, tempy, \"Anzahl\")\n",
    "    c.drawString(x * 0.65, tempy, \"Preis\")\n",
    "    c.drawString(x * 0.8, tempy, \"Summe\")\n",
    "    tempx, tempy = tempx, tempy -20\n",
    "    c.line(x *0.9, tempy, x * 0.1, tempy)\n",
    "    zwischensumme = 0\n",
    "    for i in liste:\n",
    "        tempx, tempy = tempx, tempy -20\n",
    "        c.drawString(tempx + 10, tempy, i[\"produkt\"])\n",
    "        c.drawString(x * 0.5, tempy, str(i[\"menge\"]))\n",
    "        c.drawString(x * 0.65, tempy, str(i[\"preis_pro_einheit\"]) + \"€\")\n",
    "        # summe = (int((i[\"preis_pro_einheit\"] * i[\"menge\"])*100))/100\n",
    "        summe = round(i[\"preis_pro_einheit\"] * i[\"menge\"],2)\n",
    "        c.drawString(x * 0.8, tempy, str(summe) + \"€\")\n",
    "        zwischensumme += summe\n",
    "        tempx, tempy = tempx, tempy -20\n",
    "        c.line(x *0.9, tempy, x * 0.1, tempy)\n",
    "    tempx, tempy = tempx, tempy -20\n",
    "    c.drawString(x * 0.5, tempy, f\"Zwischensumme\")\n",
    "    c.drawString(x * 0.8, tempy, f\"{zwischensumme}€\")\n",
    "    \n",
    "    tempx, tempy = tempx, tempy -40\n",
    "    c.drawString(x * 0.5, tempy, f\"Steuer ({steuer} %)\")\n",
    "    steuer = round(zwischensumme * (steuer /100),2)\n",
    "    c.drawString(x * 0.8, tempy, f\"{steuer}€\")\n",
    "    tempx, tempy = tempx, tempy -20\n",
    "    c.line(x *0.9, tempy, x * 0.5, tempy)\n",
    "    tempx, tempy = tempx, tempy -20\n",
    "    c.drawString(x * 0.5, tempy, f\"Summe\")\n",
    "    endsumme = round(zwischensumme + steuer,2)\n",
    "    c.drawString(x * 0.8, tempy, f\"{endsumme}€\")\n",
    "    # print(endsumme)\n",
    "\n",
    "\n",
    "with open(\"Einkaufliste.json\", \"r\",encoding=\"UTF-8\") as file:\n",
    "    file = json.load(file)\n",
    "    rechnung(file[\"einkaufsliste\"])\n",
    "\n",
    "c.save()"
   ]
  },
  {
   "cell_type": "markdown",
   "id": "c6e1dad9",
   "metadata": {},
   "source": [
    "# Komplette Lösung"
   ]
  },
  {
   "cell_type": "code",
   "execution_count": 141,
   "id": "8610ad8d",
   "metadata": {},
   "outputs": [],
   "source": [
    "def create_pdf(json_data, blatt, ueberschrift_font, receiver_font, nrDatum_font, rechnung_font):\n",
    "    \"\"\"Gibt eine Komplette Rechnung in PDF-Format\"\"\"\n",
    "    with open(json_data, \"r\",encoding=\"UTF-8\") as file:\n",
    "        global c, x, y # Declare as global to modify the global variables\n",
    "        x,y = blatt\n",
    "        x,y = (int(x),int(y))\n",
    "        file = json.load(file)\n",
    "        c = canvas.Canvas(f\"Lösungen/Rechnung_{file['person']['name']}.pdf\", pagesize=blatt)\n",
    "        titel(ueberschrift_font)\n",
    "        receiver([file[\"person\"][\"name\"] +' '+ file[\"person\"][\"nachname\"], file[\"person\"][\"wohnort\"], str(file[\"person\"][\"postleitzahl\"]) +' '+ file[\"person\"][\"stadt\"]], receiver_font)\n",
    "        nrDatum(file[\"vertragsnummer\"], datetime.today().strftime('%d . %m . %Y'), nrDatum_font)\n",
    "        rechnung(file[\"einkaufsliste\"], rechnung_font)\n",
    "        c.save()\n",
    "\n",
    "create_pdf(\"Einkaufliste.json\", A4, 40, 15, 15, 15)\n",
    "\n",
    "create_pdf(\"Einkaufliste2.json\", A5, 30, 10, 10, 10)\n",
    "\n",
    "\n",
    "\n",
    "\n",
    "\n"
   ]
  }
 ],
 "metadata": {
  "kernelspec": {
   "display_name": "Python 3",
   "language": "python",
   "name": "python3"
  },
  "language_info": {
   "codemirror_mode": {
    "name": "ipython",
    "version": 3
   },
   "file_extension": ".py",
   "mimetype": "text/x-python",
   "name": "python",
   "nbconvert_exporter": "python",
   "pygments_lexer": "ipython3",
   "version": "3.11.9"
  }
 },
 "nbformat": 4,
 "nbformat_minor": 5
}
